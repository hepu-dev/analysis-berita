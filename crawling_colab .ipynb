{
  "nbformat": 4,
  "nbformat_minor": 0,
  "metadata": {
    "colab": {
      "name": "crawling.ipynb",
      "provenance": [],
      "collapsed_sections": []
    },
    "kernelspec": {
      "name": "python3",
      "display_name": "Python 3"
    },
    "language_info": {
      "name": "python"
    }
  },
  "cells": [
    {
      "cell_type": "code",
      "metadata": {
        "colab": {
          "base_uri": "https://localhost:8080/"
        },
        "id": "aWvFTbaPIVYL",
        "outputId": "a7c4512b-3c6e-4dc9-d344-150629743b31"
      },
      "source": [
        "pip install tweepy"
      ],
      "execution_count": 5,
      "outputs": [
        {
          "output_type": "stream",
          "text": [
            "Requirement already satisfied: tweepy in /usr/local/lib/python3.7/dist-packages (3.10.0)\n",
            "Requirement already satisfied: requests[socks]>=2.11.1 in /usr/local/lib/python3.7/dist-packages (from tweepy) (2.23.0)\n",
            "Requirement already satisfied: six>=1.10.0 in /usr/local/lib/python3.7/dist-packages (from tweepy) (1.15.0)\n",
            "Requirement already satisfied: requests-oauthlib>=0.7.0 in /usr/local/lib/python3.7/dist-packages (from tweepy) (1.3.0)\n",
            "Requirement already satisfied: chardet<4,>=3.0.2 in /usr/local/lib/python3.7/dist-packages (from requests[socks]>=2.11.1->tweepy) (3.0.4)\n",
            "Requirement already satisfied: idna<3,>=2.5 in /usr/local/lib/python3.7/dist-packages (from requests[socks]>=2.11.1->tweepy) (2.10)\n",
            "Requirement already satisfied: urllib3!=1.25.0,!=1.25.1,<1.26,>=1.21.1 in /usr/local/lib/python3.7/dist-packages (from requests[socks]>=2.11.1->tweepy) (1.24.3)\n",
            "Requirement already satisfied: certifi>=2017.4.17 in /usr/local/lib/python3.7/dist-packages (from requests[socks]>=2.11.1->tweepy) (2021.5.30)\n",
            "Requirement already satisfied: PySocks!=1.5.7,>=1.5.6; extra == \"socks\" in /usr/local/lib/python3.7/dist-packages (from requests[socks]>=2.11.1->tweepy) (1.7.1)\n",
            "Requirement already satisfied: oauthlib>=3.0.0 in /usr/local/lib/python3.7/dist-packages (from requests-oauthlib>=0.7.0->tweepy) (3.1.1)\n"
          ],
          "name": "stdout"
        }
      ]
    },
    {
      "cell_type": "code",
      "metadata": {
        "id": "dc0EVUPzLPXI"
      },
      "source": [
        "import tweepy\n",
        "import csv\n",
        "\n",
        "api_key=\"Qjr50K8nP1ETpxuOKlePcpn2W\"\n",
        "api_key_secret=\"WvHiLuoy0WVTli0FoyJdtiJaHFe7Emb1mIfLN5anO1rSvBoPSB\"\n",
        "\n",
        "auth = tweepy.OAuthHandler(api_key,api_key_secret)\n",
        "api = tweepy.API(auth)# Open/create a file to append data to\n",
        "csvFile = open('crawlingdataset.csv', 'w', encoding='utf-8')#Use csv writer\n",
        "csvWriter = csv.writer(csvFile)\n",
        "for tweet in tweepy.Cursor(api.search, q='#prabowo -filter:retweets', tweet_mode='extended',lang=\"id\").items(150):\n",
        "    text = tweet.full_text\n",
        "    user = tweet.user.name\n",
        "    created = tweet.created_at\n",
        "    csvWriter.writerow([created, text.encode('utf-8'), user])\n",
        "csvWriter = csv.writer(csvFile)\n",
        "csvFile.close()"
      ],
      "execution_count": 6,
      "outputs": []
    }
  ]
}